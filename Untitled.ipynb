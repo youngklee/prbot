{
 "cells": [
  {
   "cell_type": "code",
   "execution_count": 1,
   "metadata": {
    "collapsed": false
   },
   "outputs": [],
   "source": [
    "import json                                                                                                                       \n",
    "import requests\n",
    "import pprint\n",
    "import jenkinsapi\n",
    "from jenkinsapi.jenkins import Jenkins\n",
    "\n",
    "pp = pprint.PrettyPrinter(indent=2)\n",
    "\n",
    "jenkins = Jenkins('http://platform-jenkins.zenoss.eng')"
   ]
  },
  {
   "cell_type": "code",
   "execution_count": 2,
   "metadata": {
    "collapsed": false
   },
   "outputs": [],
   "source": [
    "jobs = jenkins.jobs\n",
    "resmgr_job = jobs['product-assembly/develop/resmgr-pipeline']"
   ]
  },
  {
   "cell_type": "code",
   "execution_count": 21,
   "metadata": {
    "collapsed": false
   },
   "outputs": [],
   "source": [
    "def check_changes():\n",
    "    last_lgbn = 184\n",
    "    lgbn = resmgr_job.get_last_good_buildnumber()\n",
    "    comments = []\n",
    "    if not lgbn == last_lgbn:\n",
    "        for changeSet in resmgr_job.get_last_good_build()._data['changeSets']:\n",
    "            for item in changeSet['items']:\n",
    "                username = item['author']['absoluteUrl'].split('/')[-1]\n",
    "                if username == 'ylee':\n",
    "                    comments.append(item['comment'])\n",
    "    if comments:\n",
    "        print 'The following changes you made in zenoss are built in #{}'.format(lgbn)\n",
    "        for comment in comments:\n",
    "            print '- ' + comment"
   ]
  },
  {
   "cell_type": "code",
   "execution_count": 22,
   "metadata": {
    "collapsed": false
   },
   "outputs": [
    {
     "name": "stdout",
     "output_type": "stream",
     "text": [
      "The following changes you made in zenoss are built in #185\n",
      "- Upgrade hbase image version\n",
      "\n"
     ]
    }
   ],
   "source": [
    "import sched, time\n",
    "\n",
    "scheduler = sched.scheduler(time.time, time.sleep)\n",
    "\n",
    "def periodic(scheduler, interval, action, actionargs=()):\n",
    "    scheduler.enter(interval, 1, periodic,\n",
    "                    (scheduler, interval, action, actionargs))\n",
    "    action(*actionargs)\n",
    "    \n",
    "periodic(scheduler, 10, check_changes)"
   ]
  },
  {
   "cell_type": "code",
   "execution_count": 24,
   "metadata": {
    "collapsed": false
   },
   "outputs": [
    {
     "data": {
      "text/plain": [
       "206"
      ]
     },
     "execution_count": 24,
     "metadata": {},
     "output_type": "execute_result"
    }
   ],
   "source": [
    "begin_job = jobs['product-assembly/develop/begin']\n",
    "begin_job.get_last_good_buildnumber()"
   ]
  },
  {
   "cell_type": "code",
   "execution_count": 6,
   "metadata": {
    "collapsed": false
   },
   "outputs": [
    {
     "name": "stdout",
     "output_type": "stream",
     "text": [
      "http://platform-jenkins.zenoss.eng/user/ylee\n",
      "http://platform-jenkins.zenoss.eng/user/ctoole\n"
     ]
    }
   ],
   "source": [
    "for changeSet in resmgr_job.get_build(185)._data['changeSets']:\n",
    "    for item in changeSet['items']:\n",
    "        print item['author']['absoluteUrl']"
   ]
  },
  {
   "cell_type": "markdown",
   "metadata": {
    "collapsed": false
   },
   "source": [
    "## Check github PR status"
   ]
  },
  {
   "cell_type": "code",
   "execution_count": 16,
   "metadata": {
    "collapsed": false
   },
   "outputs": [
    {
     "name": "stdout",
     "output_type": "stream",
     "text": [
      "'statuses url: https://api.github.com/repos/zenoss/zenoss-prodbin/statuses/8bd3e4984f34db3a41596f007ad8a090690f8a2a'\n",
      "'state: success'\n"
     ]
    }
   ],
   "source": [
    "import json                                                                                                                       \n",
    "import requests\n",
    "import pprint\n",
    "\n",
    "pp = pprint.PrettyPrinter(indent=2)\n",
    "\n",
    "r = requests.get('https://api.github.com/repos/zenoss/zenoss-prodbin/pulls/2264')\n",
    "if r.ok:\n",
    "    content = json.loads(r.text or r.content)\n",
    "    pp.pprint('statuses url: {}'.format(content['statuses_url']))\n",
    "try:\n",
    "    statuses_url = content['statuses_url']\n",
    "    r = requests.get(statuses_url)\n",
    "    if r.ok:\n",
    "        content = json.loads(r.text or r.content)\n",
    "        pp.pprint('state: {}'.format(content[0]['state']))\n",
    "except AttributeError:\n",
    "    print('Cannot check status.')"
   ]
  },
  {
   "cell_type": "code",
   "execution_count": 1,
   "metadata": {
    "collapsed": false
   },
   "outputs": [
    {
     "data": {
      "text/plain": [
       "['https:', '', 'github.com', 'zenoss', 'zenoss-prodbin', 'pull', '2258']"
      ]
     },
     "execution_count": 1,
     "metadata": {},
     "output_type": "execute_result"
    }
   ],
   "source": [
    "pr_url = 'https://github.com/zenoss/zenoss-prodbin/pull/2258'\n",
    "pr_url.split('/')"
   ]
  },
  {
   "cell_type": "code",
   "execution_count": 2,
   "metadata": {
    "collapsed": false
   },
   "outputs": [
    {
     "data": {
      "text/plain": [
       "'https://github.com/zenoss/zenoss-prodbin/pull/2258'"
      ]
     },
     "execution_count": 2,
     "metadata": {},
     "output_type": "execute_result"
    }
   ],
   "source": [
    "cmd = 'do https://github.com/zenoss/zenoss-prodbin/pull/2258'\n",
    "_, url = cmd.split(' ')\n",
    "url"
   ]
  }
 ],
 "metadata": {
  "kernelspec": {
   "display_name": "Python 2",
   "language": "python",
   "name": "python2"
  },
  "language_info": {
   "codemirror_mode": {
    "name": "ipython",
    "version": 2
   },
   "file_extension": ".py",
   "mimetype": "text/x-python",
   "name": "python",
   "nbconvert_exporter": "python",
   "pygments_lexer": "ipython2",
   "version": "2.7.12"
  }
 },
 "nbformat": 4,
 "nbformat_minor": 0
}
